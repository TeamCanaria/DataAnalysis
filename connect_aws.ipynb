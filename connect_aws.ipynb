{
 "cells": [
  {
   "cell_type": "markdown",
   "metadata": {},
   "source": [
    "# Upload Raspberry Pi with AWS\n",
    "- Part 1: Load data from Arduino and store data incorrect format\n",
    "- Part 2: Connect Raspberry with S3 by boto3"
   ]
  },
  {
   "cell_type": "markdown",
   "metadata": {},
   "source": [
    "#### Part 1"
   ]
  },
  {
   "cell_type": "code",
   "execution_count": 22,
   "metadata": {},
   "outputs": [],
   "source": [
    "import serial                   # Python library to read data from Raspberry Pi serial \n",
    "from datetime import datetime   # Python library to check datetime\n",
    "import os                       # Python library to use operating system dependent functionality"
   ]
  },
  {
   "cell_type": "markdown",
   "metadata": {},
   "source": [
    "The steps to connect and read data of Arduino through USB serial can be found in [this website](https://oscarliang.com/connect-raspberry-pi-and-arduino-usb-cable/).\n",
    "The serial number in Arduino code should match the serial number of Raspeberry-pi code. The USB interface can be see by this linux command `ls /dev/tty*` "
   ]
  },
  {
   "cell_type": "code",
   "execution_count": 23,
   "metadata": {},
   "outputs": [
    {
     "name": "stdout",
     "output_type": "stream",
     "text": [
      "/dev/tty    /dev/tty19\t/dev/tty3   /dev/tty40\t/dev/tty51  /dev/tty62\r\n",
      "/dev/tty0   /dev/tty2\t/dev/tty30  /dev/tty41\t/dev/tty52  /dev/tty63\r\n",
      "/dev/tty1   /dev/tty20\t/dev/tty31  /dev/tty42\t/dev/tty53  /dev/tty7\r\n",
      "/dev/tty10  /dev/tty21\t/dev/tty32  /dev/tty43\t/dev/tty54  /dev/tty8\r\n",
      "/dev/tty11  /dev/tty22\t/dev/tty33  /dev/tty44\t/dev/tty55  /dev/tty9\r\n",
      "/dev/tty12  /dev/tty23\t/dev/tty34  /dev/tty45\t/dev/tty56  /dev/ttyAMA0\r\n",
      "/dev/tty13  /dev/tty24\t/dev/tty35  /dev/tty46\t/dev/tty57  /dev/ttyprintk\r\n",
      "/dev/tty14  /dev/tty25\t/dev/tty36  /dev/tty47\t/dev/tty58  /dev/ttyUSB1\r\n",
      "/dev/tty15  /dev/tty26\t/dev/tty37  /dev/tty48\t/dev/tty59\r\n",
      "/dev/tty16  /dev/tty27\t/dev/tty38  /dev/tty49\t/dev/tty6\r\n",
      "/dev/tty17  /dev/tty28\t/dev/tty39  /dev/tty5\t/dev/tty60\r\n",
      "/dev/tty18  /dev/tty29\t/dev/tty4   /dev/tty50\t/dev/tty61\r\n"
     ]
    }
   ],
   "source": [
    "!ls /dev/tty*"
   ]
  },
  {
   "cell_type": "code",
   "execution_count": 24,
   "metadata": {},
   "outputs": [],
   "source": [
    "try:\n",
    "    read_serial = serial.Serial(\"/dev/ttyUSB0\", 115200) # 115200 is the serial number in Arduino code\n",
    "                                                      # dev/ttyUSB0 is the port number optain from ls/dev/tty*\n",
    "except:\n",
    "    read_serial = serial.Serial(\"/dev/ttyUSB1\", 115200)"
   ]
  },
  {
   "cell_type": "code",
   "execution_count": 35,
   "metadata": {},
   "outputs": [
    {
     "data": {
      "text/plain": [
       "'2018-01-11.csv'"
      ]
     },
     "execution_count": 35,
     "metadata": {},
     "output_type": "execute_result"
    }
   ],
   "source": [
    "# Create file name which match the date\n",
    "file_name = datetime.now().strftime(\"%Y-%m-%d\")\n",
    "file_name = file_name + '.csv'\n",
    "file_name"
   ]
  },
  {
   "cell_type": "code",
   "execution_count": 36,
   "metadata": {},
   "outputs": [],
   "source": [
    "# Create columns for the data file\n",
    "def print_first_line(written_file):\n",
    "    written_file.write('Date,')\n",
    "    written_file.write('Patient ID,')\n",
    "    written_file.write('Red Signal')\n",
    "    written_file.write('\\n')\n",
    "    return written_file"
   ]
  },
  {
   "cell_type": "code",
   "execution_count": 37,
   "metadata": {},
   "outputs": [],
   "source": [
    "def check_file_exist(file_name):\n",
    "    if file_name not in os.listdir(os.curdir):\n",
    "        # File does not exist, create new file\n",
    "        written_file = open(file_name, \"w\")\n",
    "        written_file = print_first_line(written_file)\n",
    "    else:\n",
    "        # File already exist, append new rows\n",
    "        written_file = open(file_name, \"a\")\n",
    "    return written_file"
   ]
  },
  {
   "cell_type": "code",
   "execution_count": null,
   "metadata": {},
   "outputs": [],
   "source": [
    "import time\n",
    "\n",
    "print(\"Read data from Serial\")\n",
    "file_signal = check_file_exist(file_name)\n",
    "\n",
    "start = time.time()\n",
    "stop = time.time()\n",
    "try: \n",
    "    while (stop - start) < 3:\n",
    "        data = read_serial.readline()  # Data from serial separate by newline character\n",
    "        data = data.strip()            # Remove newline character of Arduino IDE \n",
    "        file_signal.write(datetime.now().strftime(\"%H:%M:%S.%f\") + \",\")    # Record time corresponding to the signal \n",
    "        file_signal.write(\"Vu\" + \",\")    # Write to column Patient Id\n",
    "        print(data)\n",
    "        file_signal.write(data)\n",
    "        file_signal.write(\"\\n\")\n",
    "        stop = time.time()\n",
    "except KeyboardInterrupt:\n",
    "    file_signal.close()\n",
    "    print(\"End\")"
   ]
  },
  {
   "cell_type": "code",
   "execution_count": 30,
   "metadata": {},
   "outputs": [
    {
     "name": "stdout",
     "output_type": "stream",
     "text": [
      "Date,Patient ID,Red Signal\r\n",
      "11:09:45.986920,Vu,13481\r\n",
      "11:09:45.988131,Vu,13475\r\n",
      "11:09:45.989058,Vu,13482\r\n",
      "11:09:45.990266,Vu,13481\r\n",
      "11:09:45.991252,Vu,13474\r\n",
      "11:09:45.992199,Vu,13474\r\n",
      "11:09:45.993140,Vu,13482\r\n",
      "11:09:45.994156,Vu,13486\r\n",
      "11:09:45.995364,Vu,13480\r\n"
     ]
    }
   ],
   "source": [
    "!head 2018-01-10.csv"
   ]
  },
  {
   "cell_type": "markdown",
   "metadata": {},
   "source": [
    "#### Part 2"
   ]
  },
  {
   "cell_type": "code",
   "execution_count": 15,
   "metadata": {},
   "outputs": [],
   "source": [
    "import boto3\n",
    "import botocore\n",
    "\n",
    "BUCKET_NAME = 'canaria-client-data'"
   ]
  },
  {
   "cell_type": "code",
   "execution_count": 16,
   "metadata": {},
   "outputs": [
    {
     "name": "stdout",
     "output_type": "stream",
     "text": [
      "2018-01-02.csv\n",
      "DockerToolbox.exe\n",
      "empty/\n",
      "empty/2018-01-02.csv\n",
      "empty/2018-01-10.csv\n"
     ]
    }
   ],
   "source": [
    "# Print all file inside S3 bucket\n",
    "session = boto3.Session(profile_name='default') # take secret key in awscli credentials file.\n",
    "s3_client = session.client('s3')\n",
    "for key in s3_client.list_objects(Bucket=BUCKET_NAME)['Contents']:\n",
    "    print(key['Key'])"
   ]
  },
  {
   "cell_type": "code",
   "execution_count": 21,
   "metadata": {},
   "outputs": [
    {
     "name": "stdout",
     "output_type": "stream",
     "text": [
      "Doesn't exist\n",
      "Doesn't exist\n",
      "Doesn't exist\n",
      "Exists\n"
     ]
    }
   ],
   "source": [
    "# Check file exist in S3\n",
    "for key in s3_client.list_objects(Bucket=BUCKET_NAME)['Contents']:\n",
    "    if key['Key'] == 'empty/2018-01-02.csv':\n",
    "        print('Exists')\n",
    "    else:\n",
    "        print(\"Doesn't exist\")"
   ]
  },
  {
   "cell_type": "code",
   "execution_count": 31,
   "metadata": {},
   "outputs": [],
   "source": [
    "# Upload file to s3\n",
    "s3_client.upload_file(file_name, BUCKET_NAME, 'empty/'+file_name)"
   ]
  },
  {
   "cell_type": "code",
   "execution_count": 37,
   "metadata": {},
   "outputs": [],
   "source": [
    "# Download file to Raspberry-pi \n",
    "s3_client.download_file(BUCKET_NAME, '2018-01-02.csv', '2018-01-02.csv')"
   ]
  },
  {
   "cell_type": "markdown",
   "metadata": {},
   "source": [
    "## Finalize\n",
    "The program will check if the file exists on s3. It the file exists, the program will download and write to the file. If s3 does not have the file, the program will create locally then upload on s3."
   ]
  },
  {
   "cell_type": "code",
   "execution_count": 38,
   "metadata": {},
   "outputs": [],
   "source": [
    "def update_file_signal(file_write, file_name, bucket_name):\n",
    "    file_write.close()                                       # Close the file for uploading\n",
    "    s3_client.upload_file(file_name, bucket_name, 'empty/' + file_name)             # Uploadfile to s3\n",
    "    file_write = open(file_write.name, \"a\")                   # Reopen close file\n",
    "    return file_write"
   ]
  },
  {
   "cell_type": "code",
   "execution_count": 41,
   "metadata": {},
   "outputs": [
    {
     "name": "stdout",
     "output_type": "stream",
     "text": [
      "Read data from Serial\n",
      "Uploading File\n",
      "Uploading File\n",
      "Uploading File\n",
      "Uploading File\n",
      "Uploading File\n",
      "Uploading File\n",
      "Uploading File\n",
      "Uploading File\n",
      "Uploading File\n",
      "Uploading File\n",
      "Uploading File\n",
      "Uploading File\n",
      "End\n"
     ]
    }
   ],
   "source": [
    "print(\"Read data from Serial\")\n",
    "file_signal = check_file_exist(file_name)\n",
    "counter_minute = 0 \n",
    "\n",
    "try: \n",
    "    while 1:\n",
    "        now = datetime.now()\n",
    "        if (now.second) == 59:\n",
    "            #print(\"Current Time: %d %d, Past: %d\", now.minute, now.second, past)\n",
    "            counter_minute = counter_minute + 1\n",
    "        data = read_serial.readline()  # Data from serial separate by newline character\n",
    "        data = data.strip()            # Remove newline character of Arduino IDE \n",
    "        file_signal.write(datetime.now().strftime(\"%H:%M:%S.%f\") + \",\")    # Record time corresponding to the signal \n",
    "        file_signal.write(\"Vu\" + \",\")    # Write to column Patient Id\n",
    "        file_signal.write(data)\n",
    "        file_signal.write(\"\\n\")\n",
    "        #if (now.minute == 30) or (now.hour - past == 1):        # Update file every 30 minutes\n",
    "        if counter_minute == 10:\n",
    "            file_signal = update_file_signal(file_signal, file_name, BUCKET_NAME)\n",
    "            print('Uploading File')\n",
    "            counter_minute = 0\n",
    "            \n",
    "except KeyboardInterrupt:\n",
    "    file_signal.close()\n",
    "    print(\"End\")"
   ]
  },
  {
   "cell_type": "code",
   "execution_count": null,
   "metadata": {},
   "outputs": [],
   "source": []
  }
 ],
 "metadata": {
  "kernelspec": {
   "display_name": "Python 2",
   "language": "python",
   "name": "python2"
  },
  "language_info": {
   "codemirror_mode": {
    "name": "ipython",
    "version": 2
   },
   "file_extension": ".py",
   "mimetype": "text/x-python",
   "name": "python",
   "nbconvert_exporter": "python",
   "pygments_lexer": "ipython2",
   "version": "2.7.9"
  }
 },
 "nbformat": 4,
 "nbformat_minor": 2
}
