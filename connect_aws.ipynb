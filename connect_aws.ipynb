{
 "cells": [
  {
   "cell_type": "markdown",
   "metadata": {},
   "source": [
    "# Upload Raspberry Pi with AWS\n",
    "- Part 1: Load data from Arduino and store data incorrect format\n",
    "- Part 2: Connect Raspberry with S3 by boto3"
   ]
  },
  {
   "cell_type": "markdown",
   "metadata": {},
   "source": [
    "#### Part 1"
   ]
  },
  {
   "cell_type": "code",
   "execution_count": 1,
   "metadata": {},
   "outputs": [],
   "source": [
    "import serial                   # Python library to read data from Raspberry Pi serial \n",
    "from datetime import datetime   # Python library to check datetime\n",
    "import os                       # Python library to use operating system dependent functionality"
   ]
  },
  {
   "cell_type": "markdown",
   "metadata": {},
   "source": [
    "The steps to connect and read data of Arduino through USB serial can be found in [this website](https://oscarliang.com/connect-raspberry-pi-and-arduino-usb-cable/).\n",
    "The serial number in Arduino code should match the serial number of Raspeberry-pi code. The USB interface can be see by this linux command `ls /dev/tty*` "
   ]
  },
  {
   "cell_type": "code",
   "execution_count": 2,
   "metadata": {},
   "outputs": [],
   "source": [
    "read_serial = serial.Serial(\"/dev/ttyUSB0\", 9600) # 9600 is the serial number in Arduino code\n",
    "                                                  # dev/ttyUSB0 is the port number optain from ls/dev/tty*"
   ]
  },
  {
   "cell_type": "code",
   "execution_count": 3,
   "metadata": {},
   "outputs": [
    {
     "data": {
      "text/plain": [
       "'2017-12-18.csv'"
      ]
     },
     "execution_count": 3,
     "metadata": {},
     "output_type": "execute_result"
    }
   ],
   "source": [
    "# Create file name which match the date\n",
    "file_name = datetime.now().strftime(\"%Y-%m-%d\")\n",
    "file_name = file_name + '.csv'\n",
    "file_name"
   ]
  },
  {
   "cell_type": "code",
   "execution_count": 4,
   "metadata": {},
   "outputs": [],
   "source": [
    "# Create columns for the data file\n",
    "def print_first_line(written_file):\n",
    "    written_file.write('Date,')\n",
    "    written_file.write('Patient ID,')\n",
    "    written_file.write('Red Signal')\n",
    "    written_file.write('\\n')\n",
    "    return written_file"
   ]
  },
  {
   "cell_type": "code",
   "execution_count": 5,
   "metadata": {},
   "outputs": [],
   "source": [
    "def check_file_exist(file_name):\n",
    "    if file_name not in os.listdir(os.curdir):\n",
    "        # File does not exist, create new file\n",
    "        written_file = open(file_name, \"w\")\n",
    "        written_file = print_first_line(written_file)\n",
    "    else:\n",
    "        # File already exist, append new rows\n",
    "        written_file = open(file_name, \"a\")\n",
    "    return written_file"
   ]
  },
  {
   "cell_type": "code",
   "execution_count": 6,
   "metadata": {},
   "outputs": [
    {
     "name": "stdout",
     "output_type": "stream",
     "text": [
      "Read data from Serial\n",
      "End\n",
      "Date,Patient ID,Red Signal\n",
      "14:56:23.769589,Vu,8\n",
      "14:56:23.771086,Vu,104\n",
      "14:56:23.771775,Vu,108\n",
      "14:56:23.772227,Vu,97\n",
      "14:56:23.773704,Vu,53\n",
      "14:56:23.774815,Vu,82\n",
      "14:56:23.776605,Vu,75\n",
      "14:56:23.777076,Vu,92\n",
      "14:56:23.777452,Vu,76\n"
     ]
    }
   ],
   "source": [
    "print(\"Read data from Serial\")\n",
    "file_signal = check_file_exist(file_name)\n",
    "try: \n",
    "    while 1:\n",
    "        data = read_serial.readline()  # Data from serial separate by newline character\n",
    "        data = data.strip()            # Remove newline character of Arduino IDE \n",
    "        file_signal.write(datetime.now().strftime(\"%H:%M:%S.%f\") + \",\")    # Record time corresponding to the signal \n",
    "        file_signal.write(\"Vu\" + \",\")    # Write to column Patient Id   \n",
    "        file_signal.write(data)\n",
    "        file_signal.write(\"\\n\")\n",
    "except KeyboardInterrupt:\n",
    "    file_signal.close()\n",
    "    print(\"End\")\n",
    "\n",
    "!head '2017-12-18.csv'"
   ]
  },
  {
   "cell_type": "code",
   "execution_count": null,
   "metadata": {},
   "outputs": [],
   "source": []
  }
 ],
 "metadata": {
  "kernelspec": {
   "display_name": "Python 2",
   "language": "python",
   "name": "python2"
  },
  "language_info": {
   "codemirror_mode": {
    "name": "ipython",
    "version": 2
   },
   "file_extension": ".py",
   "mimetype": "text/x-python",
   "name": "python",
   "nbconvert_exporter": "python",
   "pygments_lexer": "ipython2",
   "version": "2.7.9"
  }
 },
 "nbformat": 4,
 "nbformat_minor": 2
}
