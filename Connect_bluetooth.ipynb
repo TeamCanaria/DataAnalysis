{
 "cells": [
  {
   "cell_type": "markdown",
   "metadata": {},
   "source": [
    "# Usefull links\n",
    "- https://stackoverflow.com/questions/7485750/sending-messages-or-datas-with-bluetooth-via-python"
   ]
  },
  {
   "cell_type": "code",
   "execution_count": 4,
   "metadata": {},
   "outputs": [],
   "source": [
    "import bluetooth\n",
    "from bluetooth import *"
   ]
  },
  {
   "cell_type": "code",
   "execution_count": 5,
   "metadata": {},
   "outputs": [
    {
     "name": "stdout",
     "output_type": "stream",
     "text": [
      "looking for nearby devices...\n",
      "found 0 devices\n"
     ]
    }
   ],
   "source": [
    "# Find nearby devices\n",
    "print \"looking for nearby devices...\"\n",
    "nearby_devices = bluetooth.discover_devices(lookup_names = True, flush_cache = True, duration = 20)\n",
    "print \"found %d devices\" % len(nearby_devices)"
   ]
  },
  {
   "cell_type": "code",
   "execution_count": 9,
   "metadata": {},
   "outputs": [
    {
     "name": "stdout",
     "output_type": "stream",
     "text": [
      "  20:17:08:15:12:41 - Canaria \n"
     ]
    }
   ],
   "source": [
    "# List all devices and their address\n",
    "all_devices = {}\n",
    "for addr, name in nearby_devices:\n",
    "    try:\n",
    "        print(\"  %s - %s \" % (addr, name))\n",
    "        all_devices[name] = addr\n",
    "    except UnicodeEncodeError:\n",
    "        name = name.encode('utf-8', 'replace')\n",
    "        #print(\"  %s - %s\" % (addr, name.encode('utf-8', 'replace'))\n",
    "        print(\"  %s - %s \" % (addr, name))\n",
    "        all_devices[name] = addr"
   ]
  },
  {
   "cell_type": "code",
   "execution_count": 11,
   "metadata": {},
   "outputs": [
    {
     "data": {
      "text/plain": [
       "'20:17:08:15:12:41'"
      ]
     },
     "execution_count": 11,
     "metadata": {},
     "output_type": "execute_result"
    }
   ],
   "source": [
    "addr"
   ]
  },
  {
   "cell_type": "code",
   "execution_count": 12,
   "metadata": {},
   "outputs": [],
   "source": [
    "for services in bluetooth.find_service(address = addr):\n",
    "    print(\" Name: %s\" % (services[\"name\"]))\n",
    "    print(\" Description: %s\" % (services[\"description\"]))\n",
    "    print(\" Protocol: %s\" % (services[\"protocol\"]))\n",
    "    print(\" Provider: %s\" % (services[\"provider\"]))\n",
    "    print(\" Port: %s\" % (services[\"port\"]))\n",
    "    print(\" Service id: %s\" % (services[\"service-id\"]))\n",
    "    print(\"\")\n",
    "    print(\"\")"
   ]
  },
  {
   "cell_type": "code",
   "execution_count": 6,
   "metadata": {},
   "outputs": [
    {
     "name": "stdout",
     "output_type": "stream",
     "text": [
      "trying to connect to -f on PSM 0x1001\n"
     ]
    },
    {
     "ename": "BluetoothError",
     "evalue": "(112, 'Host is down')",
     "output_type": "error",
     "traceback": [
      "\u001b[0;31m---------------------------------------------------------------------------\u001b[0m",
      "\u001b[0;31mBluetoothError\u001b[0m                            Traceback (most recent call last)",
      "\u001b[0;32m<ipython-input-6-5435a5b4babd>\u001b[0m in \u001b[0;36m<module>\u001b[0;34m()\u001b[0m\n\u001b[1;32m     16\u001b[0m \u001b[0;32mprint\u001b[0m\u001b[0;34m(\u001b[0m\u001b[0;34m\"trying to connect to %s on PSM 0x%X\"\u001b[0m \u001b[0;34m%\u001b[0m \u001b[0;34m(\u001b[0m\u001b[0mbt_addr\u001b[0m\u001b[0;34m,\u001b[0m \u001b[0mport\u001b[0m\u001b[0;34m)\u001b[0m\u001b[0;34m)\u001b[0m\u001b[0;34m\u001b[0m\u001b[0m\n\u001b[1;32m     17\u001b[0m \u001b[0;34m\u001b[0m\u001b[0m\n\u001b[0;32m---> 18\u001b[0;31m \u001b[0msock\u001b[0m\u001b[0;34m.\u001b[0m\u001b[0mconnect\u001b[0m\u001b[0;34m(\u001b[0m\u001b[0;34m(\u001b[0m\u001b[0mbt_addr\u001b[0m\u001b[0;34m,\u001b[0m \u001b[0mport\u001b[0m\u001b[0;34m)\u001b[0m\u001b[0;34m)\u001b[0m\u001b[0;34m\u001b[0m\u001b[0m\n\u001b[0m\u001b[1;32m     19\u001b[0m \u001b[0;34m\u001b[0m\u001b[0m\n\u001b[1;32m     20\u001b[0m \u001b[0;32mprint\u001b[0m\u001b[0;34m(\u001b[0m\u001b[0;34m\"connected.  type stuff\"\u001b[0m\u001b[0;34m)\u001b[0m\u001b[0;34m\u001b[0m\u001b[0m\n",
      "\u001b[0;32m/usr/lib/python2.7/dist-packages/bluetooth/bluez.pyc\u001b[0m in \u001b[0;36mconnect\u001b[0;34m(self, *args, **kwargs)\u001b[0m\n",
      "\u001b[0;31mBluetoothError\u001b[0m: (112, 'Host is down')"
     ]
    }
   ],
   "source": [
    "import sys\n",
    "import bluetooth\n",
    "\n",
    "if sys.version < '3':\n",
    "    input = raw_input\n",
    "\n",
    "sock=bluetooth.BluetoothSocket(bluetooth.L2CAP)\n",
    "\n",
    "if len(sys.argv) < 2:\n",
    "    print(\"usage: l2capclient.py <addr>\")\n",
    "    sys.exit(2)\n",
    "\n",
    "bt_addr=sys.argv[1]\n",
    "port = 0x1001\n",
    "\n",
    "print(\"trying to connect to %s on PSM 0x%X\" % (bt_addr, port))\n",
    "\n",
    "sock.connect((bt_addr, port))\n",
    "\n",
    "print(\"connected.  type stuff\")\n",
    "while True:\n",
    "    data = input()\n",
    "    if(len(data) == 0): break\n",
    "    sock.send(data)\n",
    "    data = sock.recv(1024)\n",
    "    print(\"Data received:\", str(data))\n",
    "\n",
    "sock.close()"
   ]
  },
  {
   "cell_type": "code",
   "execution_count": 5,
   "metadata": {},
   "outputs": [],
   "source": [
    "!rm bluetooth.pyc"
   ]
  },
  {
   "cell_type": "code",
   "execution_count": null,
   "metadata": {},
   "outputs": [],
   "source": []
  }
 ],
 "metadata": {
  "kernelspec": {
   "display_name": "Python 3",
   "language": "python",
   "name": "python3"
  },
  "language_info": {
   "codemirror_mode": {
    "name": "ipython",
    "version": 2
   },
   "file_extension": ".py",
   "mimetype": "text/x-python",
   "name": "python",
   "nbconvert_exporter": "python",
   "pygments_lexer": "ipython2",
   "version": "2.7.9"
  }
 },
 "nbformat": 4,
 "nbformat_minor": 2
}
